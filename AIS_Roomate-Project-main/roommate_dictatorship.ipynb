{
  "cells": [
    {
      "cell_type": "markdown",
      "id": "statewide-tuesday",
      "metadata": {
        "id": "statewide-tuesday"
      },
      "source": [
        "Make sure the required packages are installed\n",
        "(e.g., pip install pyyaml)"
      ]
    },
    {
      "cell_type": "code",
      "execution_count": 312,
      "id": "advisory-knowing",
      "metadata": {
        "id": "advisory-knowing"
      },
      "outputs": [],
      "source": [
        "import urllib\n",
        "import yaml\n",
        "import pandas as pd\n",
        "import random\n",
        "import numpy as np\n",
        "from opcode import haslocal\n",
        "from pprint import pprint\n"
      ]
    },
    {
      "cell_type": "code",
      "execution_count": 313,
      "id": "innocent-legend",
      "metadata": {
        "id": "innocent-legend"
      },
      "outputs": [],
      "source": [
        "url = 'datasetC_with_roommate_pref.csv'\n",
        "student_df = pd.read_csv(url, index_col= False)"
      ]
    },
    {
      "cell_type": "code",
      "execution_count": 314,
      "id": "boxed-williams",
      "metadata": {
        "id": "boxed-williams"
      },
      "outputs": [],
      "source": [
        "url = 'final_room_data.csv'\n",
        "rooms_df = pd.read_csv(url, index_col= False)"
      ]
    },
    {
      "cell_type": "code",
      "execution_count": 315,
      "id": "proof-authentication",
      "metadata": {
        "id": "proof-authentication"
      },
      "outputs": [],
      "source": [
        "freshman_set = student_df['student_year'].isin(['Freshman', 'Sophomore'])\n",
        "\n",
        "# splits the data\n",
        "priority_students = student_df[freshman_set]\n",
        "other_students = student_df[~freshman_set]\n",
        "\n",
        "# randomly shuffle each list\n",
        "priority_students = priority_students.sample(frac=1, random_state=np.random.seed()).reset_index()\n",
        "other_students = other_students.sample(frac=1, random_state=np.random.seed()).reset_index()\n",
        "\n",
        "# restore the dataframe\n",
        "student_df = pd.concat([priority_students, other_students], ignore_index=True)\n",
        "\n",
        "# ++ the lottery number\n",
        "student_df['lottery_number'] = range(1, len(student_df) + 1)\n",
        "\n",
        "# Set indices to RUID\n",
        "student_df.set_index('RUID', inplace = True)"
      ]
    },
    {
      "cell_type": "code",
      "execution_count": 316,
      "id": "245fda3f",
      "metadata": {},
      "outputs": [],
      "source": [
        "# Splits up price range as two fields, min_preferred_price and max_preferred_price\n",
        "student_df[['min_preferred_price', 'max_preferred_price']] = student_df['preferred_price_range'].str.split('-', expand=True)\n",
        "\n",
        "# clean up whitespace\n",
        "student_df['min_preferred_price'] = student_df['min_preferred_price'].str.strip()\n",
        "student_df['max_preferred_price'] = student_df['max_preferred_price'].str.strip()\n",
        "\n",
        "# make integer columns\n",
        "student_df['min_preferred_price'] = student_df['min_preferred_price'].astype(int)\n",
        "student_df['max_preferred_price'] = student_df['max_preferred_price'].astype(int)\n",
        "\n",
        "students_list_df = student_df.copy()"
      ]
    },
    {
      "cell_type": "code",
      "execution_count": 317,
      "id": "unavailable-membership",
      "metadata": {
        "colab": {
          "base_uri": "https://localhost:8080/"
        },
        "id": "unavailable-membership",
        "outputId": "b3ea9e98-8350-4291-e5c0-d421600301fa"
      },
      "outputs": [],
      "source": [
        "allocating = dict()\n",
        "available_rooms = rooms_df['hall_id'].value_counts().to_dict()\n",
        "#adding new column (if the room is available or not)\n",
        "rooms_df.loc[0:5330,['is_available']] = [1]"
      ]
    },
    {
      "cell_type": "code",
      "execution_count": 318,
      "id": "available-smith",
      "metadata": {
        "id": "available-smith"
      },
      "outputs": [],
      "source": [
        "preference_list = dict()\n",
        "for RUID, row in student_df.iterrows():\n",
        "    preference_list[RUID] = row['preferred_hall_ids'].replace(' ', \",\").replace('[','').replace(']','').replace('\\'','').split(',') #string split"
      ]
    },
    {
      "cell_type": "code",
      "execution_count": 319,
      "id": "72ad758c",
      "metadata": {},
      "outputs": [],
      "source": [
        "roommate_list = dict()\n",
        "for RUID, row in student_df.iterrows():\n",
        "    roommate_list[RUID] = row['roommate_preferences'].replace(' ', \",\").replace('[','').replace(']','').replace('\\'','').split(',') #string split\n",
        "\n",
        "mutual_pairs = []\n",
        "\n",
        "# Finds mutual roommates\n",
        "for RUID, preferences in roommate_list.items():\n",
        "    for pref in preferences:\n",
        "        if pref and int(pref) in roommate_list:  \n",
        "            if str(RUID) in roommate_list[int(pref)]:\n",
        "                pair = tuple(sorted([RUID, int(pref)])) # Sort to avoid dupes\n",
        "                mutual_pairs.append(pair)\n",
        "\n",
        "mutual_pairs = list(set(mutual_pairs))\n"
      ]
    },
    {
      "cell_type": "code",
      "execution_count": 320,
      "id": "44514666",
      "metadata": {
        "id": "44514666"
      },
      "outputs": [],
      "source": [
        "result = dict()"
      ]
    },
    {
      "cell_type": "code",
      "execution_count": 321,
      "id": "w3xV3pTB2aYY",
      "metadata": {
        "id": "w3xV3pTB2aYY"
      },
      "outputs": [],
      "source": [
        "# List making functions\n",
        "def create_accessbility_list(df):\n",
        "    selected_students = df[df['accessibility_need'] == 1] #gets the value\n",
        "    df.drop(selected_students.index, inplace = True)\n",
        "    return selected_students, df\n",
        "\n",
        "def create_low_income_list(df):\n",
        "  selected_students = df[df['low_income_status'] == 1] #gets the value\n",
        "  df.drop(selected_students.index, inplace = True)\n",
        "  return selected_students, df"
      ]
    },
    {
      "cell_type": "code",
      "execution_count": 322,
      "id": "14424c4d",
      "metadata": {
        "id": "14424c4d"
      },
      "outputs": [],
      "source": [
        "# Define who's an undergrad or grad\n",
        "ug_student_yrs = ['Freshman', 'Sophomore', 'Junior', 'Senior']\n",
        "pg_student_yrs = ['Masters', 'Doctorate']\n",
        "\n",
        "# Allocates first available room.\n",
        "def allocate_first_available_room(df, ruid, res):\n",
        "    allocated_room = df.iloc[0]\n",
        "    room_details = [allocated_room['hall_id'], allocated_room['building_id'], allocated_room['room_id']]\n",
        "    rooms_df.loc[allocated_room.name, 'is_available'] = 0\n",
        "    res[ruid] = room_details\n",
        "    return res\n",
        "\n",
        "# Finds JUST RIGHT room -- does it meet all their criteria?\n",
        "def find_rooms_based_on_student_requirements(rooms_df, student, ug_student_yrs, pg_student_yrs, accessibility_required=False):\n",
        "    filtered_rooms_df = rooms_df.loc[\n",
        "        (rooms_df['is_available'] == 1) &\n",
        "        (rooms_df['has_private_bathroom'] == student['is_private_bathroom_preferred']) &\n",
        "        (rooms_df['has_laundry'] == student['laundry_availibility']) &\n",
        "        (rooms_df['room_type'] == ('Single' if student['is_single_preferred'] else rooms_df['room_type'])) &\n",
        "        (rooms_df['residence_type'] == student['preferred_residence_type']) &\n",
        "        ((rooms_df['price'] <= student['max_preferred_price']) | (rooms_df['price'] <= student['max_price'])) &\n",
        "        # Checks if room is in year\n",
        "        (\n",
        "            (\n",
        "                (student['student_year'] in ug_student_yrs) &\n",
        "                (rooms_df['room_contract_type'] == 'Undergraduate Academic Year (Two Semesters)')\n",
        "            ) |\n",
        "            (\n",
        "                (student['student_year'] in pg_student_yrs) &\n",
        "                (rooms_df['room_contract_type'] == 'Graduate Full Calendar Year – 12 Month Contracts (Two semesters and all breaks)')\n",
        "            )\n",
        "        ) &\n",
        "        ((not accessibility_required) | (rooms_df['has_accessibility_ramps'] == 1))\n",
        "    ]\n",
        "    return filtered_rooms_df\n",
        "\n",
        "# Next, just filter based on type, single, and price (accessibility if applicable)\n",
        "def find_rooms_based_on_type(rooms_df, student, ug_student_yrs, pg_student_yrs, accessibility_required=False):\n",
        "    filtered_rooms_df = rooms_df.loc[\n",
        "        (rooms_df['is_available'] == 1) &\n",
        "        (rooms_df['room_type'] == ('Single' if student['is_single_preferred'] else rooms_df['room_type'])) &\n",
        "        (rooms_df['residence_type'] == student['preferred_residence_type']) &\n",
        "        # Pivots to max price here\n",
        "        ((rooms_df['price'] <= student['max_preferred_price']) | (rooms_df['price'] <= student['max_price'])) &\n",
        "        (\n",
        "            (\n",
        "                (student['student_year'] in ug_student_yrs) &\n",
        "                (rooms_df['room_contract_type'] == 'Undergraduate Academic Year (Two Semesters)')\n",
        "            ) |\n",
        "            (\n",
        "                (student['student_year'] in pg_student_yrs) &\n",
        "                (rooms_df['room_contract_type'] == 'Graduate Full Calendar Year – 12 Month Contracts (Two semesters and all breaks)')\n",
        "            )\n",
        "        ) &\n",
        "        ((not accessibility_required) | (rooms_df['has_accessibility_ramps'] == 1))\n",
        "    ]\n",
        "    return filtered_rooms_df\n",
        "\n",
        "# otherwise just do max price and year\n",
        "def find_price_and_year_rooms(rooms_df, student, ug_student_yrs, pg_student_yrs, accessibility_required=False):\n",
        "    filtered_rooms_df = rooms_df.loc[\n",
        "        (rooms_df['is_available'] == 1) &\n",
        "        ((rooms_df['price'] <= student['max_preferred_price']) | (rooms_df['price'] <= student['max_price'])) &\n",
        "        (\n",
        "            (\n",
        "                (student['student_year'] in ug_student_yrs) &\n",
        "                (rooms_df['room_contract_type'] == 'Undergraduate Academic Year (Two Semesters)')\n",
        "            ) |\n",
        "            (\n",
        "                (student['student_year'] in pg_student_yrs) &\n",
        "                (rooms_df['room_contract_type'] == 'Graduate Full Calendar Year – 12 Month Contracts (Two semesters and all breaks)')\n",
        "            )\n",
        "        ) &\n",
        "        ((not accessibility_required) | (rooms_df['has_accessibility_ramps'] == 1))\n",
        "    ]\n",
        "    return filtered_rooms_df\n",
        "\n",
        "# Or just find something that's around\n",
        "def find_fallback_rooms(rooms_df, accessibility_required=False):\n",
        "  # fallback logic if a suitable room isn't found\n",
        "    filtered_rooms_df = rooms_df.loc[(rooms_df['is_available'] == 1) &\n",
        "      ((not accessibility_required) | (rooms_df['has_accessibility_ramps'] == 1))]\n",
        "    if not filtered_rooms_df.empty:\n",
        "      return filtered_rooms_df\n",
        "    else:\n",
        "        # Just pick anything that's available\n",
        "        available_rooms_df = rooms_df.loc[(rooms_df['is_available'] == 1)]\n",
        "        if not filtered_rooms_df.empty:\n",
        "          return filtered_rooms_df\n",
        "    return pd.DataFrame()\n",
        "\n",
        "# Runs serial dictatorship:\n",
        "def allocate_rooms_for_students(students_df, needs_accessibility, preference_list, rooms_df, ug_student_yrs, pg_student_yrs, result):\n",
        "    for ruid, student in students_df.iterrows():\n",
        "        is_pref_found = False\n",
        "        available_rooms_df = pd.DataFrame()\n",
        "\n",
        "        # Check if preferences exist\n",
        "        if ruid in preference_list:\n",
        "            preferences = preference_list[ruid]\n",
        "\n",
        "            # Iterating through each preferred hall\n",
        "            for pref in preferences:\n",
        "                available_rooms_df = rooms_df.loc[\n",
        "                    (rooms_df['hall_id'] == pref) &\n",
        "                    (rooms_df['is_available'] == 1) &\n",
        "                    (rooms_df['has_accessibility_ramps'] == needs_accessibility) &\n",
        "                    ((rooms_df['price'] <= student['max_preferred_price']) | (rooms_df['price'] <= student['max_price']))\n",
        "                ]\n",
        "                if not available_rooms_df.empty:\n",
        "                    is_pref_found = True\n",
        "                    break\n",
        "\n",
        "        are_amenities_there = False\n",
        "        if not is_pref_found:\n",
        "            available_rooms_df = find_rooms_based_on_student_requirements(rooms_df, student, ug_student_yrs, pg_student_yrs, accessibility_required=needs_accessibility)\n",
        "            if not available_rooms_df.empty:\n",
        "                are_amenities_there = True\n",
        "\n",
        "        if not are_amenities_there:\n",
        "            available_rooms_df = find_rooms_based_on_type(rooms_df, student, ug_student_yrs, pg_student_yrs, accessibility_required=needs_accessibility)\n",
        "\n",
        "        if not available_rooms_df.empty:\n",
        "            result = allocate_first_available_room(available_rooms_df, ruid, result)\n",
        "            preference_list.pop(ruid, None)\n",
        "        else:\n",
        "            available_rooms_df = find_price_and_year_rooms(rooms_df, student, ug_student_yrs, pg_student_yrs, accessibility_required=needs_accessibility)\n",
        "            if not available_rooms_df.empty:\n",
        "                result = allocate_first_available_room(available_rooms_df, ruid, result)\n",
        "                preference_list.pop(ruid, None)\n",
        "            else:\n",
        "                available_rooms_df = find_fallback_rooms(rooms_df, accessibility_required=needs_accessibility)\n",
        "                if not available_rooms_df.empty:\n",
        "                  result = allocate_first_available_room(available_rooms_df, ruid, result)\n",
        "                  preference_list.pop(ruid, None)\n",
        "\n",
        "    return result"
      ]
    },
    {
      "cell_type": "code",
      "execution_count": 323,
      "id": "Q5i8MbrxSJt-",
      "metadata": {
        "id": "Q5i8MbrxSJt-"
      },
      "outputs": [],
      "source": [
        "# Call SD on accessible students\n",
        "accessible_students, remaining_students = create_accessbility_list(student_df)\n",
        "result = allocate_rooms_for_students(accessible_students, True, preference_list, rooms_df, ug_student_yrs, pg_student_yrs, result)"
      ]
    },
    {
      "cell_type": "code",
      "execution_count": 324,
      "id": "mxmd9oPiD6PM",
      "metadata": {
        "id": "mxmd9oPiD6PM"
      },
      "outputs": [],
      "source": [
        "# Call on low income students\n",
        "low_income_students, lottery_students = create_low_income_list(remaining_students)\n",
        "result = allocate_rooms_for_students(low_income_students, False, preference_list, rooms_df, ug_student_yrs, pg_student_yrs, result)"
      ]
    },
    {
      "cell_type": "code",
      "execution_count": 325,
      "id": "ecfc11db",
      "metadata": {
        "id": "ecfc11db"
      },
      "outputs": [],
      "source": [
        "# One last go: try to allocate for lottery students (NOT accessible or low income)\n",
        "result = allocate_rooms_for_students(lottery_students, False, preference_list, rooms_df, ug_student_yrs, pg_student_yrs, result)"
      ]
    },
    {
      "cell_type": "code",
      "execution_count": 326,
      "id": "minimal-supplement",
      "metadata": {
        "id": "minimal-supplement"
      },
      "outputs": [],
      "source": [
        "# Anyone else who hasn't gotten housing, we just put somewhere.\n",
        "for ruid, preferences in preference_list.items():\n",
        "    is_pref_found = False\n",
        "    room_details = []\n",
        "    available_rooms_df = pd.DataFrame()\n",
        "\n",
        "    for pref in preferences:\n",
        "        available_rooms_df = rooms_df.loc[(rooms_df['hall_id'] == pref) & rooms_df['is_available'] == 1]\n",
        "        if not available_rooms_df.empty:\n",
        "            #try allocating first room in the df\n",
        "            is_pref_found = True\n",
        "            break\n",
        "\n",
        "    if not is_pref_found:\n",
        "        #allocate random available room\n",
        "        available_rooms_df = rooms_df.loc[rooms_df['is_available'] == 1]\n",
        "\n",
        "    if not available_rooms_df.empty:\n",
        "        #try allocating first room in the df\n",
        "        result = allocate_first_available_room(available_rooms_df, ruid, result)\n",
        "        preference_list.pop(ruid, None)"
      ]
    },
    {
      "cell_type": "code",
      "execution_count": 327,
      "id": "b4e3844f",
      "metadata": {},
      "outputs": [],
      "source": [
        "for ruid, preferences in preference_list.items():\n",
        "    result[ruid] = 'nan'"
      ]
    },
    {
      "cell_type": "code",
      "execution_count": 328,
      "id": "3ce7edc1",
      "metadata": {},
      "outputs": [],
      "source": [
        "# extract only the numeric part of the room id\n",
        "def extract_numeric_part_of_room_id(room_id):\n",
        "    return room_id.split('-')[0]\n",
        "\n",
        "# stores students with respect to SHARED rooms\n",
        "roomwise_students = {}\n",
        "\n",
        "# populate the roomwise_students\n",
        "for student_id, room in result.items():\n",
        "    if room[0] == \"nan\":\n",
        "        continue\n",
        "    # gets only the numeric part of the room id\n",
        "    numeric_room_id = extract_numeric_part_of_room_id(room[2])\n",
        "    room_key = (room[0], room[1], numeric_room_id) # Looks at room without number\n",
        "\n",
        "    # people share a room\n",
        "    if room_key in roomwise_students:\n",
        "        roomwise_students[room_key].append(student_id)\n",
        "    else:\n",
        "        roomwise_students[room_key] = [student_id]\n",
        "\n",
        "# singles can't have roommates, filter them out\n",
        "shared_rooms = {room: students for room, students in roomwise_students.items() if len(students) > 1}\n"
      ]
    },
    {
      "cell_type": "code",
      "execution_count": 329,
      "id": "02696e5b",
      "metadata": {},
      "outputs": [],
      "source": [
        "def find_acceptable_roommate_room(rooms_df, student, ug_student_yrs, pg_student_yrs, accessibility_required=False):\n",
        "    filtered_rooms_df = rooms_df.loc[\n",
        "        ((rooms_df['price'] <= student['max_preferred_price']) | (rooms_df['price'] <= student['max_price'])) &\n",
        "        (\n",
        "            (\n",
        "                (student['student_year'] in ug_student_yrs) &\n",
        "                (rooms_df['room_contract_type'] == 'Undergraduate Academic Year (Two Semesters)')\n",
        "            ) |\n",
        "            (\n",
        "                (student['student_year'] in pg_student_yrs) &\n",
        "                (rooms_df['room_contract_type'] == 'Graduate Full Calendar Year – 12 Month Contracts (Two semesters and all breaks)')\n",
        "            )\n",
        "        ) &\n",
        "        ((not accessibility_required) | (rooms_df['has_accessibility_ramps'] == 1))\n",
        "    ]\n",
        "    return filtered_rooms_df\n",
        "\n",
        "def can_swap(student, target_room, ug_student_yrs, pg_student_yrs):\n",
        "    return not find_acceptable_roommate_room(target_room, student, ug_student_yrs, pg_student_yrs, accessibility_required=(student['accessibility_need'] == 1)).empty\n",
        "\n",
        "for pair in mutual_pairs:\n",
        "    student1 = students_list_df.loc[pair[0]]\n",
        "    student2 = students_list_df.loc[pair[1]]\n",
        "\n",
        "    if pair[0] in preference_list or pair[1] in preference_list:\n",
        "        continue\n",
        "\n",
        "    room_a = result[pair[0]]\n",
        "    room_b = result[pair[1]]\n",
        "\n",
        "    room_df_a = rooms_df.loc[\n",
        "        (rooms_df['hall_id'] == room_a[0]) &\n",
        "        (rooms_df['building_id'] == room_a[1]) &\n",
        "        (rooms_df['room_id'] == room_a[2])\n",
        "    ]\n",
        "    \n",
        "    room_df_b = rooms_df.loc[\n",
        "        (rooms_df['hall_id'] == room_b[0]) &\n",
        "        (rooms_df['building_id'] == room_b[1]) &\n",
        "        (rooms_df['room_id'] == room_b[2])\n",
        "    ]\n",
        "\n",
        "    accepted_student = student2\n",
        "    if not room_a == None:\n",
        "        possible_room = find_acceptable_roommate_room(room_df_a, student2, ug_student_yrs, pg_student_yrs, accessibility_required=(student2['accessibility_need'] == 1))\n",
        "    if possible_room.empty and not room_b == None:\n",
        "        possible_room = find_acceptable_roommate_room(room_df_b, student1, ug_student_yrs, pg_student_yrs, accessibility_required=(student1['accessibility_need'] == 1))\n",
        "        accepted_student = student1\n",
        "\n",
        "    accepted_student_id = pair[0] if accepted_student is student2 else pair[1]\n",
        "\n",
        "    if not possible_room.empty:\n",
        "        room_id_numeric = extract_numeric_part_of_room_id(possible_room['room_id'].iloc[0])\n",
        "        room_key = (possible_room['hall_id'].iloc[0], possible_room['building_id'].iloc[0], room_id_numeric)\n",
        "        potential_roommates = roomwise_students.get(room_key, [])\n",
        "        \n",
        "        for roommate_id in potential_roommates:\n",
        "            roommate = students_list_df.loc[roommate_id]\n",
        "            \n",
        "            # ensures that the accepted_student and roommate aren't already in mutual_pairs - no kicking roommates\n",
        "            if (accepted_student_id, roommate_id) in mutual_pairs or (roommate_id, accepted_student_id) in mutual_pairs:\n",
        "                continue  # Skip this iteration\n",
        "\n",
        "            # checks if the potential roommate can swap rooms with the accepted student's original room\n",
        "            if can_swap(roommate, room_df_a if accepted_student is student2 else room_df_b, ug_student_yrs, pg_student_yrs):\n",
        "                # Swap their rooms\n",
        "                if accepted_student is student2:\n",
        "                    result[pair[0]], result[roommate_id] = result[roommate_id], result[pair[0]]\n",
        "                else:\n",
        "                    result[pair[1]], result[roommate_id] = result[roommate_id], result[pair[1]]\n",
        "                break"
      ]
    },
    {
      "cell_type": "code",
      "execution_count": 330,
      "id": "excited-turkish",
      "metadata": {
        "id": "excited-turkish"
      },
      "outputs": [],
      "source": [
        "df = pd.DataFrame(list(result.items()), columns=['RUID', 'Assigned Rooms'])\n",
        "df.to_csv('results/datasetC_result_3.csv')"
      ]
    }
  ],
  "metadata": {
    "colab": {
      "provenance": []
    },
    "kernelspec": {
      "display_name": "Python 3",
      "language": "python",
      "name": "python3"
    },
    "language_info": {
      "codemirror_mode": {
        "name": "ipython",
        "version": 3
      },
      "file_extension": ".py",
      "mimetype": "text/x-python",
      "name": "python",
      "nbconvert_exporter": "python",
      "pygments_lexer": "ipython3",
      "version": "3.11.2"
    },
    "vscode": {
      "interpreter": {
        "hash": "b0fa6594d8f4cbf19f97940f81e996739fb7646882a419484c72d19e05852a7e"
      }
    }
  },
  "nbformat": 4,
  "nbformat_minor": 5
}
